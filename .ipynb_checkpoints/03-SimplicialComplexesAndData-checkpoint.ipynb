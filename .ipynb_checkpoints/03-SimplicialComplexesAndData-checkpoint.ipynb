{
 "cells": [
  {
   "cell_type": "markdown",
   "metadata": {},
   "source": [
    "# Simplicial Complexes and Data"
   ]
  },
  {
   "cell_type": "code",
   "execution_count": null,
   "metadata": {},
   "outputs": [],
   "source": [
    "import numpy as np\n",
    "import matplotlib.pyplot as plt\n",
    "import networkx as nx"
   ]
  },
  {
   "cell_type": "markdown",
   "metadata": {},
   "source": [
    "## Simplicial Homology\n",
    "\n",
    "This week, we introduced homology of simplicial complexes. The *$k$th homology* is a machine which eats a simplicial complex $X$ and spits out a vector space $H_k(X)$ whose elements are equivalence classes of simplices representing \"$k$-dimensional holes\" in the complex $X$. \n",
    "\n",
    "This should lead you to a natural\n",
    "\n",
    "**Question:** What does homology have to do with data analysis?\n",
    "\n",
    "That is, most datasets that you deal with are not naturally structured as simplicial complexes. But this statement is not *quite* true: typical data is a finite set of points in $\\mathbb{R}^n$ (or some other metric space), and a finite set of points can be considered as a (somewhat boring) simplicial complex. In particular, if $X$ is a set of $n$ points, then \n",
    "$$\n",
    "H_k(X) \\approx \\left\\{\\begin{array}{cc}\n",
    "                \\mathbb{F}_2^n & k = 0 \\\\\n",
    "                0 & k \\neq 0; \\end{array}\\right.\n",
    "$$\n",
    "i.e., homology just tells us the number of points in $X$ (not very interesting...).\n",
    "\n",
    "The idea we will persue in coming weeks is to use the vertex set $X$ to create increasingly complicated simplicial complexes which capture the geometry and topology of $X$ at many scales.\n",
    "\n",
    "To motivate this, let's construct a toy dataset."
   ]
  },
  {
   "cell_type": "code",
   "execution_count": null,
   "metadata": {},
   "outputs": [],
   "source": [
    "X1 = np.random.multivariate_normal([0,0],np.array([[1,0],[0,1]]),size = 10)\n",
    "X2 = np.random.multivariate_normal([7,0],np.array([[1,0],[0,0.2]]),size = 8)\n",
    "X3 = np.random.multivariate_normal([0,11],np.array([[1,0],[0,1]]),size = 12)\n",
    "\n",
    "X = np.concatenate((X1,X2,X3))\n",
    "\n",
    "plt.plot(X[:,0],X[:,1],'o')\n",
    "plt.axis('equal')\n",
    "plt.show()"
   ]
  },
  {
   "cell_type": "markdown",
   "metadata": {},
   "source": [
    "## Back to Clustering\n",
    "\n",
    "Recall that one of our motivations for studying topology in the context of data analysis was hierarchical clustering."
   ]
  },
  {
   "cell_type": "code",
   "execution_count": null,
   "metadata": {},
   "outputs": [],
   "source": [
    "from scipy.cluster.hierarchy import dendrogram, linkage  \n",
    "\n",
    "plt.figure(figsize=(10,5))\n",
    "linked = linkage(X)\n",
    "dendrogram(linked)\n",
    "plt.show()"
   ]
  },
  {
   "cell_type": "markdown",
   "metadata": {},
   "source": [
    "This gives a multiscale picture of the clustering structure of the data. But \"clusters\" are just connected pieces of the data; i.e., elements of $H_0(X)$. The idea is that hierarchical clustering is finding $H_0(X)$ at various levels of 'resolution' in the data.\n",
    "\n",
    "Now let's try to make this precise."
   ]
  },
  {
   "cell_type": "markdown",
   "metadata": {},
   "source": [
    "## Creating a Growing Simplicial Complex"
   ]
  },
  {
   "cell_type": "markdown",
   "metadata": {},
   "source": [
    "For each $r \\geq 0$, define a simplicial complex $X_r = (V_r, \\Sigma_r)$, where\n",
    "$$\n",
    "V_r = X \\qquad \\forall r\n",
    "$$\n",
    "and $\\Sigma_r$ contains only $0$-simplices and $1$-simplices, where the $1$-simplices form the set\n",
    "$$\n",
    "\\{\\{x_i,x_j\\} \\mid x_i,x_j \\in X, d(x_i,x_j) \\leq r\\},\n",
    "$$\n",
    "where $d(x_i,x_j)$ is Euclidean distance.\n",
    "\n",
    "**Note:** $X_0 = X$.\n",
    "\n",
    "Let's write a function to generate such a simplicial complex for each $r \\geq 0$. "
   ]
  },
  {
   "cell_type": "markdown",
   "metadata": {},
   "source": [
    "First we create a distance matrix for $X$."
   ]
  },
  {
   "cell_type": "code",
   "execution_count": null,
   "metadata": {},
   "outputs": [],
   "source": [
    "from sklearn.metrics import pairwise_distances"
   ]
  },
  {
   "cell_type": "code",
   "execution_count": null,
   "metadata": {},
   "outputs": [],
   "source": [
    "D = pairwise_distances(X)\n",
    "plt.imshow(D)\n",
    "plt.show()"
   ]
  },
  {
   "cell_type": "code",
   "execution_count": null,
   "metadata": {},
   "outputs": [],
   "source": [
    "def create_simplicial_complex(D,r):\n",
    "    \"\"\"\n",
    "    Input: distance matrix and nonnegative radius\n",
    "    Output: networkx graph \n",
    "    \"\"\"\n",
    "    \n",
    "    G = nx.Graph()\n",
    "    G.add_nodes_from(list(range(len(D))))\n",
    "    edge_list = np.argwhere(D <= r) \n",
    "    G.add_edges_from(edge_list)\n",
    "    \n",
    "    return G"
   ]
  },
  {
   "cell_type": "markdown",
   "metadata": {},
   "source": [
    "Try it out:"
   ]
  },
  {
   "cell_type": "code",
   "execution_count": null,
   "metadata": {},
   "outputs": [],
   "source": [
    "r = 1\n",
    "G = create_simplicial_complex(D,r)\n",
    "nx.draw_kamada_kawai(G)"
   ]
  },
  {
   "cell_type": "markdown",
   "metadata": {},
   "source": [
    "It looks like the function works, but we would like our drawings to be more related to the original dataset. We can set node positions in `networkx` graphs (there are lots of other options for visualization here)."
   ]
  },
  {
   "cell_type": "code",
   "execution_count": null,
   "metadata": {},
   "outputs": [],
   "source": [
    "pos = {n:X[n,:] for n in G.nodes()}\n",
    "plt.figure(figsize = (5,5))\n",
    "nx.draw_networkx(G, pos = pos, with_labels = False,node_size = 20)\n",
    "plt.axis('equal')\n",
    "plt.show()"
   ]
  },
  {
   "cell_type": "markdown",
   "metadata": {},
   "source": [
    "Now let's look at how this evolves over a few radii:"
   ]
  },
  {
   "cell_type": "code",
   "execution_count": null,
   "metadata": {
    "scrolled": false
   },
   "outputs": [],
   "source": [
    "rs = [0,0.5,1,1.5,3,4,5,8,10]\n",
    "\n",
    "plt.figure(figsize = (20,20))\n",
    "\n",
    "for (j,r) in enumerate(rs):\n",
    "    G = create_simplicial_complex(D,r)\n",
    "    plt.subplot(3,3,j+1)\n",
    "    nx.draw_networkx(G, pos = pos, with_labels = False,node_size = 20)\n",
    "    plt.axis('equal')\n",
    "    plt.title('Radius = '+str(r))\n",
    "\n",
    "plt.show()"
   ]
  },
  {
   "cell_type": "markdown",
   "metadata": {},
   "source": [
    "Compare again to the dendrogram from above."
   ]
  },
  {
   "cell_type": "code",
   "execution_count": null,
   "metadata": {},
   "outputs": [],
   "source": [
    "dendrogram(linked)\n",
    "plt.show()"
   ]
  },
  {
   "cell_type": "markdown",
   "metadata": {},
   "source": [
    "Observe that the heights where clusters merge correspond exactly to the radii $r$ where the corresponding equivalence classes merge in $H_0(X_r)$. "
   ]
  },
  {
   "cell_type": "markdown",
   "metadata": {},
   "source": [
    "## Our Next Goals\n",
    "\n",
    "- Formalize this idea of computing homology of varying simplicial complexes.\n",
    "- In particular, look at higher-dimensional homology. To get something meaningful here, we'll need to throw in higher dimensional simplices.\n",
    "- Use this procedure as a way to compare datasets."
   ]
  },
  {
   "cell_type": "markdown",
   "metadata": {},
   "source": [
    "## One More Example\n",
    "\n",
    "To see how higher-dimensional homology would come into play, let's look at one more example."
   ]
  },
  {
   "cell_type": "code",
   "execution_count": null,
   "metadata": {},
   "outputs": [],
   "source": [
    "X = np.random.multivariate_normal([0,0],np.array([[1,0],[0,1]]),size = 100)\n",
    "X = X.T/np.linalg.norm(X,axis = 1)\n",
    "X = X.T + 0.5*np.random.rand(100,2)\n",
    "\n",
    "plt.plot(X[:,0],X[:,1],'o')\n",
    "plt.axis('equal')\n",
    "plt.show()"
   ]
  },
  {
   "cell_type": "code",
   "execution_count": null,
   "metadata": {},
   "outputs": [],
   "source": [
    "D = pairwise_distances(X)"
   ]
  },
  {
   "cell_type": "code",
   "execution_count": null,
   "metadata": {},
   "outputs": [],
   "source": [
    "rs = [0,0.1,0.2,0.3,0.4,0.5,0.6,1,2]\n",
    "pos = {n:X[n,:] for n in G.nodes()}\n",
    "\n",
    "plt.figure(figsize = (20,20))\n",
    "\n",
    "for (j,r) in enumerate(rs):\n",
    "    G = create_simplicial_complex(D,r)\n",
    "    plt.subplot(3,3,j+1)\n",
    "    nx.draw_networkx(G, pos = pos, with_labels = False,node_size = 50)\n",
    "    plt.axis('equal')\n",
    "    plt.title('Radius = '+str(r))\n",
    "\n",
    "plt.show()"
   ]
  },
  {
   "cell_type": "code",
   "execution_count": null,
   "metadata": {},
   "outputs": [],
   "source": []
  }
 ],
 "metadata": {
  "kernelspec": {
   "display_name": "Python 3",
   "language": "python",
   "name": "python3"
  },
  "language_info": {
   "codemirror_mode": {
    "name": "ipython",
    "version": 3
   },
   "file_extension": ".py",
   "mimetype": "text/x-python",
   "name": "python",
   "nbconvert_exporter": "python",
   "pygments_lexer": "ipython3",
   "version": "3.7.3"
  }
 },
 "nbformat": 4,
 "nbformat_minor": 2
}
