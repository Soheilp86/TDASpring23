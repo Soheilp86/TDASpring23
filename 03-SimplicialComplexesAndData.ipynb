{
 "cells": [
  {
   "cell_type": "markdown",
   "metadata": {},
   "source": [
    "# Simplicial Complexes and Data"
   ]
  },
  {
   "cell_type": "code",
   "execution_count": null,
   "metadata": {},
   "outputs": [],
   "source": [
    "import numpy as np\n",
    "import matplotlib.pyplot as plt\n",
    "import networkx as nx\n",
    "\n",
    "from matplotlib.patches import Polygon\n",
    "from matplotlib.collections import PatchCollection"
   ]
  },
  {
   "cell_type": "markdown",
   "metadata": {},
   "source": [
    "## Simplicial Homology\n",
    "\n",
    "This week, we introduced homology of simplicial complexes. The *$k$th homology* is a machine which eats a simplicial complex $X$ and spits out a vector space $H_k(X)$ whose elements are equivalence classes of simplices representing \"$k$-dimensional holes\" in the complex $X$. \n",
    "\n",
    "This should lead you to a natural\n",
    "\n",
    "**Question:** What does homology have to do with data analysis?\n",
    "\n",
    "That is, most datasets that you deal with are not naturally structured as simplicial complexes. But this statement is not *quite* true: typical data is a finite set of points in $\\mathbb{R}^n$ (or some other metric space), and a finite set of points can be considered as a (somewhat boring) simplicial complex. In particular, if $X$ is a set of $n$ points, then \n",
    "$$\n",
    "H_k(X) \\approx \\left\\{\\begin{array}{cc}\n",
    "                \\mathbb{F}_2^n & k = 0 \\\\\n",
    "                0 & k \\neq 0; \\end{array}\\right.\n",
    "$$\n",
    "i.e., homology just tells us the number of points in $X$ (not very interesting...).\n",
    "\n",
    "The idea we will persue in coming weeks is to use the vertex set $X$ to create increasingly complicated simplicial complexes which capture the geometry and topology of $X$ at many scales.\n",
    "\n",
    "To motivate this, let's construct a toy dataset."
   ]
  },
  {
   "cell_type": "code",
   "execution_count": null,
   "metadata": {},
   "outputs": [],
   "source": [
    "X1 = np.random.multivariate_normal([0,0],np.array([[1,0],[0,1]]),size = 10)\n",
    "X2 = np.random.multivariate_normal([7,0],np.array([[1,0],[0,0.2]]),size = 8)\n",
    "X3 = np.random.multivariate_normal([0,11],np.array([[1,0],[0,1]]),size = 12)\n",
    "\n",
    "X = np.concatenate((X1,X2,X3))\n",
    "\n",
    "plt.plot(X[:,0],X[:,1],'o')\n",
    "plt.axis('equal')\n",
    "plt.show()"
   ]
  },
  {
   "cell_type": "markdown",
   "metadata": {},
   "source": [
    "## Back to Clustering\n",
    "\n",
    "Recall that one of our motivations for studying topology in the context of data analysis was hierarchical clustering."
   ]
  },
  {
   "cell_type": "code",
   "execution_count": null,
   "metadata": {},
   "outputs": [],
   "source": [
    "from scipy.cluster.hierarchy import dendrogram, linkage  \n",
    "\n",
    "plt.figure(figsize=(10,5))\n",
    "linked = linkage(X)\n",
    "dendrogram(linked)\n",
    "plt.show()"
   ]
  },
  {
   "cell_type": "markdown",
   "metadata": {},
   "source": [
    "This gives a multiscale picture of the clustering structure of the data. But \"clusters\" are just connected pieces of the data; i.e., elements of $H_0(X)$. The idea is that hierarchical clustering is finding $H_0(X)$ at various levels of 'resolution' in the data.\n",
    "\n",
    "Now let's try to make this precise."
   ]
  },
  {
   "cell_type": "markdown",
   "metadata": {},
   "source": [
    "## Creating a Growing Simplicial Complex"
   ]
  },
  {
   "cell_type": "markdown",
   "metadata": {},
   "source": [
    "For each $r \\geq 0$, define a simplicial complex $X_r = (V_r, \\Sigma_r)$, where\n",
    "$$\n",
    "V_r = X \\qquad \\forall r\n",
    "$$\n",
    "and $\\Sigma_r$ contains only $0$-simplices and $1$-simplices, where the $1$-simplices form the set\n",
    "$$\n",
    "\\{\\{x_i,x_j\\} \\mid x_i,x_j \\in X, d(x_i,x_j) \\leq r\\},\n",
    "$$\n",
    "where $d(x_i,x_j)$ is Euclidean distance.\n",
    "\n",
    "**Note:** $X_0 = X$.\n",
    "\n",
    "Let's write a function to generate such a simplicial complex for each $r \\geq 0$. "
   ]
  },
  {
   "cell_type": "markdown",
   "metadata": {},
   "source": [
    "First we create a distance matrix for $X$."
   ]
  },
  {
   "cell_type": "code",
   "execution_count": null,
   "metadata": {},
   "outputs": [],
   "source": [
    "from sklearn.metrics import pairwise_distances"
   ]
  },
  {
   "cell_type": "code",
   "execution_count": null,
   "metadata": {},
   "outputs": [],
   "source": [
    "D = pairwise_distances(X)\n",
    "plt.imshow(D)\n",
    "plt.show()"
   ]
  },
  {
   "cell_type": "code",
   "execution_count": null,
   "metadata": {},
   "outputs": [],
   "source": [
    "def create_simplicial_complex(D,r):\n",
    "    \"\"\"\n",
    "    Input: distance matrix and nonnegative radius\n",
    "    Output: networkx graph \n",
    "    \"\"\"\n",
    "    \n",
    "    G = nx.Graph()\n",
    "    G.add_nodes_from(list(range(len(D))))\n",
    "    edge_list = np.argwhere(D <= r) \n",
    "    G.add_edges_from(edge_list)\n",
    "    \n",
    "    # Remove self-loops\n",
    "    G.remove_edges_from(nx.selfloop_edges(G))\n",
    "    \n",
    "    return G"
   ]
  },
  {
   "cell_type": "markdown",
   "metadata": {},
   "source": [
    "Try it out:"
   ]
  },
  {
   "cell_type": "code",
   "execution_count": null,
   "metadata": {},
   "outputs": [],
   "source": [
    "r = 1\n",
    "G = create_simplicial_complex(D,r)\n",
    "nx.draw_kamada_kawai(G)"
   ]
  },
  {
   "cell_type": "markdown",
   "metadata": {},
   "source": [
    "It looks like the function works, but we would like our drawings to be more related to the original dataset. We can set node positions in `networkx` graphs (there are lots of other options for visualization here)."
   ]
  },
  {
   "cell_type": "code",
   "execution_count": null,
   "metadata": {},
   "outputs": [],
   "source": [
    "pos = {n:X[n,:] for n in range(len(X))}\n",
    "plt.figure(figsize = (5,5))\n",
    "nx.draw_networkx(G, pos = pos, with_labels = False,node_size = 20)\n",
    "plt.axis('equal')\n",
    "plt.show()"
   ]
  },
  {
   "cell_type": "markdown",
   "metadata": {},
   "source": [
    "Now let's look at how this evolves over a few radii:"
   ]
  },
  {
   "cell_type": "code",
   "execution_count": null,
   "metadata": {
    "scrolled": false
   },
   "outputs": [],
   "source": [
    "rs = [0,0.5,1,1.5,3,4,5,8,10]\n",
    "\n",
    "plt.figure(figsize = (20,20))\n",
    "\n",
    "for (j,r) in enumerate(rs):\n",
    "    G = create_simplicial_complex(D,r)\n",
    "    plt.subplot(3,3,j+1)\n",
    "    nx.draw_networkx(G, pos = pos, with_labels = False,node_size = 20)\n",
    "    plt.axis('equal')\n",
    "    plt.title('Radius = '+str(r))\n",
    "\n",
    "plt.show()"
   ]
  },
  {
   "cell_type": "markdown",
   "metadata": {},
   "source": [
    "Compare again to the dendrogram from above."
   ]
  },
  {
   "cell_type": "code",
   "execution_count": null,
   "metadata": {},
   "outputs": [],
   "source": [
    "dendrogram(linked)\n",
    "plt.show()"
   ]
  },
  {
   "cell_type": "markdown",
   "metadata": {},
   "source": [
    "Observe that the heights where clusters merge correspond exactly to the radii $r$ where the corresponding equivalence classes merge in $H_0(X_r)$. "
   ]
  },
  {
   "cell_type": "markdown",
   "metadata": {},
   "source": [
    "## Vietoris-Rips Complexes\n",
    "\n",
    "The above construction is (almost) an example of the concept of a *Vietoris-Rips complex* that we defined in class. Recall that if $(X,d)$ is a finite metric space and $r \\geq 0$, we define the *Vietoris-Rips complex for $X$ at scale $r$* to be the simplicial complex $\\mathrm{VR}_r(X) = (V_r,\\Sigma_r)$, where $V_r = X$ for all $r$ and \n",
    "$$\n",
    "\\Sigma_r = \\{(x_{i_0},\\ldots,x_{i_k}) \\mid d(x_{i_m},x_{i_n}) \\leq r \\; \\forall \\; m,n\\}.\n",
    "$$\n",
    "The graphs we defined above are the $1$-skeleton of the Vietoris-Rips complexes at various scales; that is, they are the result of taking the Vietoris-Rips complex and throwing away any simplices with dimension $\\geq 2$. This is sufficient to extract connectivity information about the data, but there is a reason to include higher-dimensional simplices in the construction."
   ]
  },
  {
   "cell_type": "markdown",
   "metadata": {},
   "source": [
    "## Higher-Dimensional Homology\n",
    "\n",
    "To see how higher-dimensional homology would come into play, let's look at one more example."
   ]
  },
  {
   "cell_type": "code",
   "execution_count": null,
   "metadata": {},
   "outputs": [],
   "source": [
    "num_points = 50\n",
    "\n",
    "X = np.random.multivariate_normal([0,0],np.array([[1,0],[0,1]]),size = num_points)\n",
    "X = X.T/np.linalg.norm(X,axis = 1)\n",
    "X = X.T + 0.5*np.random.rand(num_points,2)\n",
    "\n",
    "plt.plot(X[:,0],X[:,1],'o')\n",
    "plt.axis('equal')\n",
    "plt.show()"
   ]
  },
  {
   "cell_type": "code",
   "execution_count": null,
   "metadata": {},
   "outputs": [],
   "source": [
    "D = pairwise_distances(X)"
   ]
  },
  {
   "cell_type": "markdown",
   "metadata": {},
   "source": [
    "The $1$-skeleta of the Vietoris-Rips complexes look like this:"
   ]
  },
  {
   "cell_type": "code",
   "execution_count": null,
   "metadata": {},
   "outputs": [],
   "source": [
    "rs = [0,0.1,0.2,0.3,0.4,0.5,0.6,1,2]\n",
    "pos = {n:X[n,:] for n in range(len(X))}\n",
    "\n",
    "plt.figure(figsize = (20,20))\n",
    "\n",
    "for (j,r) in enumerate(rs):\n",
    "    G = create_simplicial_complex(D,r)\n",
    "    plt.subplot(3,3,j+1)\n",
    "    nx.draw_networkx(G, pos = pos, with_labels = False,node_size = 50)\n",
    "    plt.axis('equal')\n",
    "    plt.title('Radius = '+str(r))\n",
    "\n",
    "plt.show()"
   ]
  },
  {
   "cell_type": "markdown",
   "metadata": {},
   "source": [
    "For this dataset, there is a 'loop structure' which may be of interest. To see it computationally, we would want to track $1$-dimensional homology over various scales. As it stands, the 1-dimensional homology would see lots and lots of very small holes, which would not sufficiently accentuate the large apparent loop. We can remedy this by including higher-dimensional simplices.\n",
    "\n",
    "In what follows, I'll compute the $2$-skeleton of the Vietoris-Rips complexes. Note that if we are interested in degree-$k$ homology of the dataset, it suffices to use the $k+1$-skeleton of the VR complex, since\n",
    "$$\n",
    "H_k(\\mathrm{VR}_r(X)) = \\mathrm{ker}(\\partial_k) / \\mathrm{im}(\\partial_{k+1}).\n",
    "$$\n",
    "\n",
    "We need to use some more involved tools to compute and draw $2$-simplices."
   ]
  },
  {
   "cell_type": "markdown",
   "metadata": {},
   "source": [
    "Let's work at a fixed resolution to design the plotting tool."
   ]
  },
  {
   "cell_type": "code",
   "execution_count": null,
   "metadata": {},
   "outputs": [],
   "source": [
    "plt.figure(figsize = (7,7))\n",
    "r = 0.4\n",
    "G = create_simplicial_complex(D,r)\n",
    "nx.draw_networkx(G, pos = pos, with_labels = False,node_size = 50)\n",
    "plt.axis('equal')\n",
    "plt.show()"
   ]
  },
  {
   "cell_type": "code",
   "execution_count": null,
   "metadata": {},
   "outputs": [],
   "source": [
    "def create_2_dim_simplicial_complex(D,r):\n",
    "    \n",
    "    # Create 1-skeleton\n",
    "    G = create_simplicial_complex(D,r)\n",
    "    \n",
    "    # Get a list of 2-simplices\n",
    "    two_spx_list = []\n",
    "    \n",
    "    # Naive search for viable 2-simplices\n",
    "    for edge in G.edges():\n",
    "        for vertex in G.nodes():\n",
    "            if vertex != edge[0] and vertex != edge[1] and D[edge[0],vertex] < r and D[edge[1],vertex] < r:\n",
    "                two_spx_list.append([edge[0],edge[1],vertex])\n",
    "                \n",
    "    return G, two_spx_list"
   ]
  },
  {
   "cell_type": "code",
   "execution_count": null,
   "metadata": {},
   "outputs": [],
   "source": [
    "G, two_spx_list = create_2_dim_simplicial_complex(D,r)\n",
    "two_spx_list"
   ]
  },
  {
   "cell_type": "markdown",
   "metadata": {},
   "source": [
    "To draw the simplices, we'll use the `Polygon` function imported above. We'll add the triangles one-by-one to a collection, then use plotting tools to display them."
   ]
  },
  {
   "cell_type": "code",
   "execution_count": null,
   "metadata": {},
   "outputs": [],
   "source": [
    "patches = []\n",
    "\n",
    "for i,spx in enumerate(two_spx_list):\n",
    "    position_array = np.array([[pos[vert][0],pos[vert][1]] for vert in spx])\n",
    "    polygon = Polygon(position_array, True)\n",
    "    patches.append(polygon)"
   ]
  },
  {
   "cell_type": "code",
   "execution_count": null,
   "metadata": {},
   "outputs": [],
   "source": [
    "fig, ax = plt.subplots(figsize = (7,7))\n",
    "\n",
    "colors = 100*np.random.rand(len(patches))\n",
    "p = PatchCollection(patches, alpha=0.1)\n",
    "p.set_array(np.array(colors))\n",
    "ax.add_collection(p)\n",
    "\n",
    "plt.xlim([-1.25, 1.5])\n",
    "plt.ylim([-1.25, 1.5])\n",
    "plt.show()"
   ]
  },
  {
   "cell_type": "markdown",
   "metadata": {},
   "source": [
    "Now we'll plot the 1-skeleton first and overlay the triangles."
   ]
  },
  {
   "cell_type": "code",
   "execution_count": null,
   "metadata": {},
   "outputs": [],
   "source": [
    "fig, ax = plt.subplots(figsize = (7,7))\n",
    "\n",
    "nx.draw_networkx(G, pos = pos, with_labels = False,node_size = 50)\n",
    "colors = 100*np.random.rand(len(patches))\n",
    "p = PatchCollection(patches, alpha=0.05)\n",
    "p.set_array(np.array(colors))\n",
    "ax.add_collection(p)\n",
    "\n",
    "plt.axis('equal')\n",
    "plt.show()"
   ]
  },
  {
   "cell_type": "markdown",
   "metadata": {},
   "source": [
    "Looks good! Now let's run it on a range of radii. We'll decrease the max radius in our pictures, since the number of triangles blows up factorially and it eventually takes forever to draw all of them."
   ]
  },
  {
   "cell_type": "code",
   "execution_count": null,
   "metadata": {},
   "outputs": [],
   "source": [
    "rs = [0,0.2,0.3,0.5,0.6,0.7,0.8,0.9,1]\n",
    "pos = {n:X[n,:] for n in range(len(X))}\n",
    "\n",
    "plt.figure(figsize = (20,20))\n",
    "\n",
    "for (j,r) in enumerate(rs):\n",
    "    G, two_spx_list = create_2_dim_simplicial_complex(D,r)\n",
    "    patches = []\n",
    "\n",
    "    for i,spx in enumerate(two_spx_list):\n",
    "        position_array = np.array([[pos[vert][0],pos[vert][1]] for vert in spx])\n",
    "        polygon = Polygon(position_array, True)\n",
    "        patches.append(polygon)\n",
    "        \n",
    "    ax = plt.subplot(3,3,j+1)\n",
    "    nx.draw_networkx(G, pos = pos, with_labels = False,node_size = 50)\n",
    "    colors = 100*np.random.rand(len(patches))\n",
    "    p = PatchCollection(patches, alpha=0.05)\n",
    "    p.set_array(np.array(colors))\n",
    "    ax.add_collection(p)\n",
    "    \n",
    "    plt.axis('equal')\n",
    "    plt.title('Radius = '+str(r))\n",
    "\n",
    "plt.show()"
   ]
  },
  {
   "cell_type": "markdown",
   "metadata": {},
   "source": [
    "We see that loops appear in the data:\n",
    "- small loops appear earlier in the process but are quickly filled in\n",
    "- a much stronger loop appears a bit later but persists for a long time\n",
    "- the large loop will also eventually be filled in, but the idea is that keep track of how features change over 'filtration values' (values of $r$)."
   ]
  },
  {
   "cell_type": "markdown",
   "metadata": {},
   "source": [
    "## Persistent Homology"
   ]
  },
  {
   "cell_type": "markdown",
   "metadata": {},
   "source": [
    "In class, we defined the *$k$th Vietoris-Rips persistence module of $X$* to consist of the following data:\n",
    "- For each $r \\geq 0$, we have a vector space\n",
    "$$\n",
    "H_k(\\mathrm{VR}_r(X))\n",
    "$$\n",
    "- For each pair $r,s$ with $r \\leq s$, we have a linear map\n",
    "$$\n",
    "H_k(\\mathrm{VR}_r(X)) \\to H_k(\\mathrm{VR}_s(X))\n",
    "$$\n",
    "which is induced (by functoriality!) by the simplicial map $\\mathrm{VR}_r(X) \\to \\mathrm{VR}_s(X)$ coming from the identity map on the vertex set $X$.\n",
    "\n",
    "This structure is also referred to as the *persistent homology* of the Vietoris-Rips complex."
   ]
  },
  {
   "cell_type": "markdown",
   "metadata": {},
   "source": [
    "This is a very rich/complex way to encode information about the dataset $X$. This should lead you to the following\n",
    "\n",
    "**Question:** How can a persistence module be used in practice?\n",
    "\n",
    "That is, we need ways to \n",
    "- conveniently represent and visualize persistence modules, and\n",
    "- compare persistence modules coming from different datasets."
   ]
  },
  {
   "cell_type": "markdown",
   "metadata": {},
   "source": [
    "## Persistence Diagrams and Barcodes\n",
    "\n",
    "To address the first part of the question, here is some code which can be used to represent/visualize persistence modules.\n",
    "\n",
    "**Remark:** From now on, we will start using more specialized software packages. If you are following along on your machine, it's possible that installation of these packages will not be as straightforward as it is for more 'mainstream' packages. Talk with me in office hours if you need some help with installation, or you can always follow along using the Binder link on the GitHub page."
   ]
  },
  {
   "cell_type": "markdown",
   "metadata": {},
   "source": [
    "We'll use a TDA package called `gudhi`. Documentation for the package is here: http://gudhi.gforge.inria.fr."
   ]
  },
  {
   "cell_type": "code",
   "execution_count": null,
   "metadata": {},
   "outputs": [],
   "source": [
    "import gudhi as gd"
   ]
  },
  {
   "cell_type": "markdown",
   "metadata": {},
   "source": [
    "Let's first study the dataset that we were looking at above. In `gudhi`, we create the Vietoris-Rips complex using the following functions. I'm passing in some options which will only construct the $2$-skeleton of the VR complex."
   ]
  },
  {
   "cell_type": "code",
   "execution_count": null,
   "metadata": {},
   "outputs": [],
   "source": [
    "skeleton = gd.RipsComplex(distance_matrix = D, max_edge_length = 2) \n",
    "Rips_complex = skeleton.create_simplex_tree(max_dimension = 2)"
   ]
  },
  {
   "cell_type": "markdown",
   "metadata": {},
   "source": [
    "The VR complex is stored as a simplicial complex, together with a 'filtration' value for the simplex. This is the radius at which the simplex first appears in $\\mathrm{VR}_r(X)$. \n",
    "\n",
    "Let's see how many simplices there are and print off the first couple of hundred to see what the structure looks like."
   ]
  },
  {
   "cell_type": "code",
   "execution_count": null,
   "metadata": {},
   "outputs": [],
   "source": [
    "rips_filtration = Rips_complex.get_filtration()\n",
    "rips_list = list(rips_filtration)\n",
    "print('Number of Simplices:',len(rips_list))\n",
    "for splx in rips_list[0:200] :\n",
    "    print(splx)"
   ]
  },
  {
   "cell_type": "markdown",
   "metadata": {},
   "source": [
    "Okay... so now we have a VR complex. But what do we do with it? The following code computes the persistence module for the Vietoris-Rips complex and represents it in a particular way."
   ]
  },
  {
   "cell_type": "code",
   "execution_count": null,
   "metadata": {},
   "outputs": [],
   "source": [
    "BarCodes = Rips_complex.persistence()"
   ]
  },
  {
   "cell_type": "markdown",
   "metadata": {},
   "source": [
    "Looking at the result..."
   ]
  },
  {
   "cell_type": "code",
   "execution_count": null,
   "metadata": {},
   "outputs": [],
   "source": [
    "BarCodes"
   ]
  },
  {
   "cell_type": "markdown",
   "metadata": {},
   "source": [
    "So it's a bunch of things of the form $(d,(x,y))$. We can plot these things in a couple of ways. Let's see if we can guess what this representation is telling us about the data."
   ]
  },
  {
   "cell_type": "markdown",
   "metadata": {},
   "source": [
    "The following is called a *persistence diagram*."
   ]
  },
  {
   "cell_type": "code",
   "execution_count": null,
   "metadata": {},
   "outputs": [],
   "source": [
    "gd.plot_persistence_diagram(BarCodes)\n",
    "plt.show()"
   ]
  },
  {
   "cell_type": "markdown",
   "metadata": {},
   "source": [
    "The following is called a *barcode representation*."
   ]
  },
  {
   "cell_type": "code",
   "execution_count": null,
   "metadata": {},
   "outputs": [],
   "source": [
    "gd.plot_persistence_barcode(BarCodes)\n",
    "plt.show()"
   ]
  },
  {
   "cell_type": "markdown",
   "metadata": {},
   "source": [
    "Any guesses for what this represents?"
   ]
  },
  {
   "cell_type": "markdown",
   "metadata": {},
   "source": [
    "## Another Example\n",
    "\n",
    "Let's run this pipeline on one more example to get an intuitive feel for how it works."
   ]
  },
  {
   "cell_type": "code",
   "execution_count": null,
   "metadata": {},
   "outputs": [],
   "source": [
    "A = np.random.multivariate_normal([0,0],np.array([[1,0],[0,1]]),size = 25)\n",
    "A = A.T/np.linalg.norm(A,axis = 1)\n",
    "A = A.T + 0.5*np.random.rand(25,2)\n",
    "\n",
    "Y = np.random.multivariate_normal([0,0],np.array([[1,0],[0,1]]),size = 25)\n",
    "Y = 1.5*Y.T/np.linalg.norm(Y,axis = 1)\n",
    "Y = Y.T + 0.5*np.random.rand(25,2) + [6,0]\n",
    "\n",
    "Z1 = np.random.multivariate_normal([0,7],np.array([[0.2,0],[0,1]]),size = 20)\n",
    "Z2 = np.random.multivariate_normal([5,8],np.array([[1,0],[0,0.2]]),size = 30)\n",
    "\n",
    "X = np.concatenate((A,Y,Z1,Z2))\n",
    "\n",
    "plt.plot(X[:,0],X[:,1],'o')\n",
    "plt.axis('equal')\n",
    "plt.show()"
   ]
  },
  {
   "cell_type": "code",
   "execution_count": null,
   "metadata": {},
   "outputs": [],
   "source": [
    "D = pairwise_distances(X)"
   ]
  },
  {
   "cell_type": "code",
   "execution_count": null,
   "metadata": {},
   "outputs": [],
   "source": [
    "rs = [0,0.25,0.5,0.75,1,1.25,1.5,2,2.5]\n",
    "pos = {n:X[n,:] for n in range(len(X))}\n",
    "\n",
    "plt.figure(figsize = (20,20))\n",
    "\n",
    "for (j,r) in enumerate(rs):\n",
    "    G, two_spx_list = create_2_dim_simplicial_complex(D,r)\n",
    "    patches = []\n",
    "\n",
    "    for i,spx in enumerate(two_spx_list):\n",
    "        position_array = np.array([[pos[vert][0],pos[vert][1]] for vert in spx])\n",
    "        polygon = Polygon(position_array, True)\n",
    "        patches.append(polygon)\n",
    "        \n",
    "    ax = plt.subplot(3,3,j+1)\n",
    "    nx.draw_networkx(G, pos = pos, with_labels = False,node_size = 50)\n",
    "    colors = 100*np.random.rand(len(patches))\n",
    "    p = PatchCollection(patches, alpha=0.05)\n",
    "    p.set_array(np.array(colors))\n",
    "    ax.add_collection(p)\n",
    "    \n",
    "    print('Radius',r,'done...')\n",
    "    \n",
    "    plt.axis('equal')\n",
    "    plt.title('Radius = '+str(r))\n",
    "\n",
    "plt.show()"
   ]
  },
  {
   "cell_type": "code",
   "execution_count": null,
   "metadata": {},
   "outputs": [],
   "source": [
    "skeleton = gd.RipsComplex(distance_matrix = D, max_edge_length = 2) \n",
    "Rips_complex = skeleton.create_simplex_tree(max_dimension = 2)\n",
    "BarCodes = Rips_complex.persistence()\n",
    "\n",
    "gd.plot_persistence_diagram(BarCodes)\n",
    "plt.show()\n",
    "\n",
    "gd.plot_persistence_barcode(BarCodes)\n",
    "plt.show()"
   ]
  },
  {
   "cell_type": "markdown",
   "metadata": {},
   "source": [
    "## Next Steps\n",
    "\n",
    "Our plan for next week is to precisely understand what the points in the persistence diagram/bars in the barcodes represent. \n",
    "\n",
    "## Unofficial Homework\n",
    "\n",
    "Try running through this pipeline for other point clouds; either toy datasets of your own design, toy datasets from, say, `scikit-learn`, or a real world dataset.\n",
    "\n",
    "For point clouds with more points, the visualization part may become too unwieldy. If you use point clouds in higher dimensions, then the visualization will not work at all. It would be a fun exercise to extend these visualizations to work for 3D point clouds. Beyond that, you could visualize via projections. In any case, the persistent homology code should work in any dimension and works reasonably quickly for larger point clouds. \n",
    "\n",
    "Let me know if you find anything interesting!"
   ]
  }
 ],
 "metadata": {
  "kernelspec": {
   "display_name": "Python 3",
   "language": "python",
   "name": "python3"
  },
  "language_info": {
   "codemirror_mode": {
    "name": "ipython",
    "version": 3
   },
   "file_extension": ".py",
   "mimetype": "text/x-python",
   "name": "python",
   "nbconvert_exporter": "python",
   "pygments_lexer": "ipython3",
   "version": "3.7.4"
  }
 },
 "nbformat": 4,
 "nbformat_minor": 2
}
